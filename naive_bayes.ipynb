{
  "nbformat": 4,
  "nbformat_minor": 0,
  "metadata": {
    "colab": {
      "name": "naive_bayes.ipynb",
      "provenance": [],
      "mount_file_id": "11d6uQ2w8nV3HTXeMXsswxvMUhgmKFFB-",
      "authorship_tag": "ABX9TyMf1uq6M3Y3V29fQe3iYaVd"
    },
    "kernelspec": {
      "name": "python3",
      "display_name": "Python 3"
    },
    "accelerator": "GPU"
  },
  "cells": [
    {
      "cell_type": "code",
      "metadata": {
        "colab": {
          "base_uri": "https://localhost:8080/"
        },
        "id": "cDQIiAwK9jPJ",
        "outputId": "02e09f05-1d1c-448a-993a-cba2ed8e25df"
      },
      "source": [
        "!pip install konlpy"
      ],
      "execution_count": 4,
      "outputs": [
        {
          "output_type": "stream",
          "text": [
            "Collecting konlpy\n",
            "\u001b[?25l  Downloading https://files.pythonhosted.org/packages/85/0e/f385566fec837c0b83f216b2da65db9997b35dd675e107752005b7d392b1/konlpy-0.5.2-py2.py3-none-any.whl (19.4MB)\n",
            "\u001b[K     |████████████████████████████████| 19.4MB 1.4MB/s \n",
            "\u001b[?25hCollecting JPype1>=0.7.0\n",
            "\u001b[?25l  Downloading https://files.pythonhosted.org/packages/de/af/93f92b38ec1ff3091cd38982ed19cea2800fefb609b5801c41fc43c0781e/JPype1-1.2.1-cp36-cp36m-manylinux2010_x86_64.whl (457kB)\n",
            "\u001b[K     |████████████████████████████████| 460kB 48.0MB/s \n",
            "\u001b[?25hRequirement already satisfied: lxml>=4.1.0 in /usr/local/lib/python3.6/dist-packages (from konlpy) (4.2.6)\n",
            "Collecting colorama\n",
            "  Downloading https://files.pythonhosted.org/packages/44/98/5b86278fbbf250d239ae0ecb724f8572af1c91f4a11edf4d36a206189440/colorama-0.4.4-py2.py3-none-any.whl\n",
            "Collecting beautifulsoup4==4.6.0\n",
            "\u001b[?25l  Downloading https://files.pythonhosted.org/packages/9e/d4/10f46e5cfac773e22707237bfcd51bbffeaf0a576b0a847ec7ab15bd7ace/beautifulsoup4-4.6.0-py3-none-any.whl (86kB)\n",
            "\u001b[K     |████████████████████████████████| 92kB 13.0MB/s \n",
            "\u001b[?25hCollecting tweepy>=3.7.0\n",
            "  Downloading https://files.pythonhosted.org/packages/67/c3/6bed87f3b1e5ed2f34bd58bf7978e308c86e255193916be76e5a5ce5dfca/tweepy-3.10.0-py2.py3-none-any.whl\n",
            "Requirement already satisfied: numpy>=1.6 in /usr/local/lib/python3.6/dist-packages (from konlpy) (1.19.5)\n",
            "Requirement already satisfied: typing-extensions; python_version < \"3.8\" in /usr/local/lib/python3.6/dist-packages (from JPype1>=0.7.0->konlpy) (3.7.4.3)\n",
            "Requirement already satisfied: six>=1.10.0 in /usr/local/lib/python3.6/dist-packages (from tweepy>=3.7.0->konlpy) (1.15.0)\n",
            "Requirement already satisfied: requests[socks]>=2.11.1 in /usr/local/lib/python3.6/dist-packages (from tweepy>=3.7.0->konlpy) (2.23.0)\n",
            "Requirement already satisfied: requests-oauthlib>=0.7.0 in /usr/local/lib/python3.6/dist-packages (from tweepy>=3.7.0->konlpy) (1.3.0)\n",
            "Requirement already satisfied: certifi>=2017.4.17 in /usr/local/lib/python3.6/dist-packages (from requests[socks]>=2.11.1->tweepy>=3.7.0->konlpy) (2020.12.5)\n",
            "Requirement already satisfied: idna<3,>=2.5 in /usr/local/lib/python3.6/dist-packages (from requests[socks]>=2.11.1->tweepy>=3.7.0->konlpy) (2.10)\n",
            "Requirement already satisfied: urllib3!=1.25.0,!=1.25.1,<1.26,>=1.21.1 in /usr/local/lib/python3.6/dist-packages (from requests[socks]>=2.11.1->tweepy>=3.7.0->konlpy) (1.24.3)\n",
            "Requirement already satisfied: chardet<4,>=3.0.2 in /usr/local/lib/python3.6/dist-packages (from requests[socks]>=2.11.1->tweepy>=3.7.0->konlpy) (3.0.4)\n",
            "Requirement already satisfied: PySocks!=1.5.7,>=1.5.6; extra == \"socks\" in /usr/local/lib/python3.6/dist-packages (from requests[socks]>=2.11.1->tweepy>=3.7.0->konlpy) (1.7.1)\n",
            "Requirement already satisfied: oauthlib>=3.0.0 in /usr/local/lib/python3.6/dist-packages (from requests-oauthlib>=0.7.0->tweepy>=3.7.0->konlpy) (3.1.0)\n",
            "Installing collected packages: JPype1, colorama, beautifulsoup4, tweepy, konlpy\n",
            "  Found existing installation: beautifulsoup4 4.6.3\n",
            "    Uninstalling beautifulsoup4-4.6.3:\n",
            "      Successfully uninstalled beautifulsoup4-4.6.3\n",
            "  Found existing installation: tweepy 3.6.0\n",
            "    Uninstalling tweepy-3.6.0:\n",
            "      Successfully uninstalled tweepy-3.6.0\n",
            "Successfully installed JPype1-1.2.1 beautifulsoup4-4.6.0 colorama-0.4.4 konlpy-0.5.2 tweepy-3.10.0\n"
          ],
          "name": "stdout"
        }
      ]
    },
    {
      "cell_type": "code",
      "metadata": {
        "id": "f90OKTrG99BD"
      },
      "source": [
        "from tqdm import tqdm\r\n",
        "\r\n",
        "# 다양한 한국어 형태소 분석기가 클래스로 구현되어 있다\r\n",
        "from konlpy import tag \r\n",
        "\r\n",
        "from collections import defaultdict\r\n",
        "\r\n",
        "import math"
      ],
      "execution_count": 9,
      "outputs": []
    },
    {
      "cell_type": "code",
      "metadata": {
        "id": "383vxW5q99Xb"
      },
      "source": [
        "# 긍정 (1) 부정(0) 2가지 class\r\n",
        "\r\n",
        "train_data = [\r\n",
        "  \"정말 맛있습니다. 추천합니다.\",\r\n",
        "  \"기대했던 것보단 별로였네요.\",\r\n",
        "  \"다 좋은데 가격이 너무 비싸서 다시 가고 싶다는 생각이 안 드네요.\",\r\n",
        "  \"완전 최고입니다! 재방문 의사 있습니다.\",\r\n",
        "  \"음식도 서비스도 다 만족스러웠습니다.\",\r\n",
        "  \"위생 상태가 좀 별로였습니다. 좀 더 개선되기를 바랍니다.\",\r\n",
        "  \"맛도 좋았고 직원분들 서비스도 너무 친절했습니다.\",\r\n",
        "  \"기념일에 방문했는데 음식도 분위기도 서비스도 다 좋았습니다.\",\r\n",
        "  \"전반적으로 음식이 너무 짰습니다. 저는 별로였네요.\",\r\n",
        "  \"위생에 조금 더 신경 썼으면 좋겠습니다. 조금 불쾌했습니다.\"\r\n",
        "]\r\n",
        "train_labels = [1, 0, 0, 1, 1, 0, 1, 1, 0, 0]\r\n",
        "\r\n",
        "test_data = [\r\n",
        "  \"정말 좋았습니다. 또 가고 싶네요.\",\r\n",
        "  \"별로였습니다. 되도록 가지 마세요.\",\r\n",
        "  \"다른 분들께도 추천드릴 수 있을 만큼 만족했습니다.\",\r\n",
        "  \"서비스가 좀 더 개선되었으면 좋겠습니다. 기분이 좀 나빴습니다.\"\r\n",
        "]"
      ],
      "execution_count": 11,
      "outputs": []
    },
    {
      "cell_type": "code",
      "metadata": {
        "id": "cPZD2H2H-5gi"
      },
      "source": [
        "tokenizer = tag.Okt()"
      ],
      "execution_count": 12,
      "outputs": []
    },
    {
      "cell_type": "code",
      "metadata": {
        "id": "4gHPYNcr-85J"
      },
      "source": [
        "def make_tokenized(data):\r\n",
        "  tokenized = []\r\n",
        "\r\n",
        "  for sent in tqdm(data):\r\n",
        "    tokens = tokenizer.morphs(sent) # tokenizer가 최소한의 의미로 토큰을 나눔\r\n",
        "    tokenized.append(tokens)\r\n",
        "\r\n",
        "  return tokenized"
      ],
      "execution_count": 17,
      "outputs": []
    },
    {
      "cell_type": "code",
      "metadata": {
        "id": "lorNUt6p_dco"
      },
      "source": [
        ""
      ],
      "execution_count": null,
      "outputs": []
    },
    {
      "cell_type": "code",
      "metadata": {
        "colab": {
          "base_uri": "https://localhost:8080/"
        },
        "id": "krZiRDbe_TJ_",
        "outputId": "bb24e6c7-dee6-4522-b466-5ee4f65d1b79"
      },
      "source": [
        "train_tokenized = make_tokenized(train_data)\r\n",
        "test_tokenized = make_tokenized(test_data)"
      ],
      "execution_count": 18,
      "outputs": [
        {
          "output_type": "stream",
          "text": [
            "100%|██████████| 10/10 [00:05<00:00,  1.85it/s]\n",
            "100%|██████████| 4/4 [00:00<00:00, 76.87it/s]\n"
          ],
          "name": "stderr"
        }
      ]
    },
    {
      "cell_type": "code",
      "metadata": {
        "colab": {
          "base_uri": "https://localhost:8080/"
        },
        "id": "KylrB2wH-50N",
        "outputId": "4efe9aa1-2d75-4804-bd29-235c5f43e9cd"
      },
      "source": [
        "train_tokenized"
      ],
      "execution_count": 19,
      "outputs": [
        {
          "output_type": "execute_result",
          "data": {
            "text/plain": [
              "[['정말', '맛있습니다', '.', '추천', '합니다', '.'],\n",
              " ['기대했던', '것', '보단', '별로', '였네요', '.'],\n",
              " ['다',\n",
              "  '좋은데',\n",
              "  '가격',\n",
              "  '이',\n",
              "  '너무',\n",
              "  '비싸서',\n",
              "  '다시',\n",
              "  '가고',\n",
              "  '싶다는',\n",
              "  '생각',\n",
              "  '이',\n",
              "  '안',\n",
              "  '드네',\n",
              "  '요',\n",
              "  '.'],\n",
              " ['완전', '최고', '입니다', '!', '재', '방문', '의사', '있습니다', '.'],\n",
              " ['음식', '도', '서비스', '도', '다', '만족스러웠습니다', '.'],\n",
              " ['위생',\n",
              "  '상태',\n",
              "  '가',\n",
              "  '좀',\n",
              "  '별로',\n",
              "  '였습니다',\n",
              "  '.',\n",
              "  '좀',\n",
              "  '더',\n",
              "  '개선',\n",
              "  '되',\n",
              "  '기를',\n",
              "  '바랍니다',\n",
              "  '.'],\n",
              " ['맛', '도', '좋았고', '직원', '분들', '서비스', '도', '너무', '친절했습니다', '.'],\n",
              " ['기념일',\n",
              "  '에',\n",
              "  '방문',\n",
              "  '했는데',\n",
              "  '음식',\n",
              "  '도',\n",
              "  '분위기',\n",
              "  '도',\n",
              "  '서비스',\n",
              "  '도',\n",
              "  '다',\n",
              "  '좋았습니다',\n",
              "  '.'],\n",
              " ['전반', '적', '으로', '음식', '이', '너무', '짰습니다', '.', '저', '는', '별로', '였네요', '.'],\n",
              " ['위생', '에', '조금', '더', '신경', '썼으면', '좋겠습니다', '.', '조금', '불쾌했습니다', '.']]"
            ]
          },
          "metadata": {
            "tags": []
          },
          "execution_count": 19
        }
      ]
    },
    {
      "cell_type": "code",
      "metadata": {
        "id": "8MLvp8Nb_i2s"
      },
      "source": [
        ""
      ],
      "execution_count": null,
      "outputs": []
    },
    {
      "cell_type": "code",
      "metadata": {
        "colab": {
          "base_uri": "https://localhost:8080/"
        },
        "id": "T7VA_iZA_jt5",
        "outputId": "51157492-fda7-4ede-94cd-72145c6bfacd"
      },
      "source": [
        "word_count = defaultdict(int) # key : 단어 value : 등장횟수\r\n",
        "\r\n",
        "for tokens in tqdm(train_tokenized):\r\n",
        "  for token in tokens:\r\n",
        "    word_count[token] += 1\r\n",
        "\r\n",
        "\r\n"
      ],
      "execution_count": 21,
      "outputs": [
        {
          "output_type": "stream",
          "text": [
            "100%|██████████| 10/10 [00:00<00:00, 49286.77it/s]\n"
          ],
          "name": "stderr"
        }
      ]
    },
    {
      "cell_type": "code",
      "metadata": {
        "colab": {
          "base_uri": "https://localhost:8080/"
        },
        "id": "EtZ99hSsAE6a",
        "outputId": "1860c41c-f2c0-4e24-dcc0-7a2fb60f8734"
      },
      "source": [
        "word_count = sorted(word_count.items(), key = lambda x : x[1], reverse=True)\r\n",
        "print(len(word_count))"
      ],
      "execution_count": 22,
      "outputs": [
        {
          "output_type": "stream",
          "text": [
            "66\n"
          ],
          "name": "stdout"
        }
      ]
    },
    {
      "cell_type": "code",
      "metadata": {
        "colab": {
          "base_uri": "https://localhost:8080/"
        },
        "id": "G6hgDRNW_j25",
        "outputId": "70834592-d48c-4d42-fe2c-a5160c7482ee"
      },
      "source": [
        "word_count"
      ],
      "execution_count": 23,
      "outputs": [
        {
          "output_type": "execute_result",
          "data": {
            "text/plain": [
              "[('.', 14),\n",
              " ('도', 7),\n",
              " ('별로', 3),\n",
              " ('다', 3),\n",
              " ('이', 3),\n",
              " ('너무', 3),\n",
              " ('음식', 3),\n",
              " ('서비스', 3),\n",
              " ('였네요', 2),\n",
              " ('방문', 2),\n",
              " ('위생', 2),\n",
              " ('좀', 2),\n",
              " ('더', 2),\n",
              " ('에', 2),\n",
              " ('조금', 2),\n",
              " ('정말', 1),\n",
              " ('맛있습니다', 1),\n",
              " ('추천', 1),\n",
              " ('합니다', 1),\n",
              " ('기대했던', 1),\n",
              " ('것', 1),\n",
              " ('보단', 1),\n",
              " ('좋은데', 1),\n",
              " ('가격', 1),\n",
              " ('비싸서', 1),\n",
              " ('다시', 1),\n",
              " ('가고', 1),\n",
              " ('싶다는', 1),\n",
              " ('생각', 1),\n",
              " ('안', 1),\n",
              " ('드네', 1),\n",
              " ('요', 1),\n",
              " ('완전', 1),\n",
              " ('최고', 1),\n",
              " ('입니다', 1),\n",
              " ('!', 1),\n",
              " ('재', 1),\n",
              " ('의사', 1),\n",
              " ('있습니다', 1),\n",
              " ('만족스러웠습니다', 1),\n",
              " ('상태', 1),\n",
              " ('가', 1),\n",
              " ('였습니다', 1),\n",
              " ('개선', 1),\n",
              " ('되', 1),\n",
              " ('기를', 1),\n",
              " ('바랍니다', 1),\n",
              " ('맛', 1),\n",
              " ('좋았고', 1),\n",
              " ('직원', 1),\n",
              " ('분들', 1),\n",
              " ('친절했습니다', 1),\n",
              " ('기념일', 1),\n",
              " ('했는데', 1),\n",
              " ('분위기', 1),\n",
              " ('좋았습니다', 1),\n",
              " ('전반', 1),\n",
              " ('적', 1),\n",
              " ('으로', 1),\n",
              " ('짰습니다', 1),\n",
              " ('저', 1),\n",
              " ('는', 1),\n",
              " ('신경', 1),\n",
              " ('썼으면', 1),\n",
              " ('좋겠습니다', 1),\n",
              " ('불쾌했습니다', 1)]"
            ]
          },
          "metadata": {
            "tags": []
          },
          "execution_count": 23
        }
      ]
    },
    {
      "cell_type": "code",
      "metadata": {
        "id": "Hxut0lSp_j7s"
      },
      "source": [
        "w2i = {} # key : 단어  value : 단어의 index\r\n",
        "for pair in tqdm(word_count):\r\n",
        "  if pair[0] not in w2i:\r\n",
        "    w2i[pair[0]] = len(w2i)"
      ],
      "execution_count": 27,
      "outputs": []
    },
    {
      "cell_type": "code",
      "metadata": {
        "colab": {
          "base_uri": "https://localhost:8080/"
        },
        "id": "s42R8vBbAdZg",
        "outputId": "e50bb243-1c27-43be-b4a5-b18af51288ec"
      },
      "source": [
        "len(w2i)"
      ],
      "execution_count": 25,
      "outputs": [
        {
          "output_type": "execute_result",
          "data": {
            "text/plain": [
              "66"
            ]
          },
          "metadata": {
            "tags": []
          },
          "execution_count": 25
        }
      ]
    },
    {
      "cell_type": "code",
      "metadata": {
        "colab": {
          "base_uri": "https://localhost:8080/"
        },
        "id": "KROAhNmJAfSc",
        "outputId": "e52c9255-9f04-4352-a73e-af5d1d723d3f"
      },
      "source": [
        "w2i"
      ],
      "execution_count": 26,
      "outputs": [
        {
          "output_type": "execute_result",
          "data": {
            "text/plain": [
              "{'!': 35,\n",
              " '.': 0,\n",
              " '가': 41,\n",
              " '가격': 23,\n",
              " '가고': 26,\n",
              " '개선': 43,\n",
              " '것': 20,\n",
              " '기념일': 52,\n",
              " '기대했던': 19,\n",
              " '기를': 45,\n",
              " '너무': 5,\n",
              " '는': 61,\n",
              " '다': 3,\n",
              " '다시': 25,\n",
              " '더': 12,\n",
              " '도': 1,\n",
              " '되': 44,\n",
              " '드네': 30,\n",
              " '만족스러웠습니다': 39,\n",
              " '맛': 47,\n",
              " '맛있습니다': 16,\n",
              " '바랍니다': 46,\n",
              " '방문': 9,\n",
              " '별로': 2,\n",
              " '보단': 21,\n",
              " '분들': 50,\n",
              " '분위기': 54,\n",
              " '불쾌했습니다': 65,\n",
              " '비싸서': 24,\n",
              " '상태': 40,\n",
              " '생각': 28,\n",
              " '서비스': 7,\n",
              " '신경': 62,\n",
              " '싶다는': 27,\n",
              " '썼으면': 63,\n",
              " '안': 29,\n",
              " '에': 13,\n",
              " '였네요': 8,\n",
              " '였습니다': 42,\n",
              " '완전': 32,\n",
              " '요': 31,\n",
              " '위생': 10,\n",
              " '으로': 58,\n",
              " '음식': 6,\n",
              " '의사': 37,\n",
              " '이': 4,\n",
              " '입니다': 34,\n",
              " '있습니다': 38,\n",
              " '재': 36,\n",
              " '저': 60,\n",
              " '적': 57,\n",
              " '전반': 56,\n",
              " '정말': 15,\n",
              " '조금': 14,\n",
              " '좀': 11,\n",
              " '좋겠습니다': 64,\n",
              " '좋았고': 48,\n",
              " '좋았습니다': 55,\n",
              " '좋은데': 22,\n",
              " '직원': 49,\n",
              " '짰습니다': 59,\n",
              " '최고': 33,\n",
              " '추천': 17,\n",
              " '친절했습니다': 51,\n",
              " '합니다': 18,\n",
              " '했는데': 53}"
            ]
          },
          "metadata": {
            "tags": []
          },
          "execution_count": 26
        }
      ]
    },
    {
      "cell_type": "code",
      "metadata": {
        "id": "bP7bXAu2_j_F"
      },
      "source": [
        ""
      ],
      "execution_count": null,
      "outputs": []
    },
    {
      "cell_type": "code",
      "metadata": {
        "id": "ECcSpv2k_kCI"
      },
      "source": [
        ""
      ],
      "execution_count": null,
      "outputs": []
    },
    {
      "cell_type": "markdown",
      "metadata": {
        "id": "bXbCtAiLA5po"
      },
      "source": [
        "NaiveBayes Classifier 모델 구현\r\n",
        "\r\n",
        "\r\n",
        "\r\n",
        "*   self.k :  Laplace Smoothing을 위한 상수\r\n",
        "*   self.w2i : 사전에 구한 vocab\r\n",
        "\r\n",
        "*   self.priors : 각 class의 prior확률\r\n",
        "*   self.likelihoods : 각 token의 특정 class 조건 내에서의 likelihood\r\n",
        "\r\n",
        "\r\n",
        "\r\n",
        "\r\n",
        "\r\n",
        "\r\n",
        "\r\n"
      ]
    },
    {
      "cell_type": "code",
      "metadata": {
        "id": "xRniOOnd_kE2"
      },
      "source": [
        "class NaiveBayesClassifier():\r\n",
        "  def __init__(self, w2i, k=0.1):\r\n",
        "    self.k = k\r\n",
        "    self.w2i = w2i\r\n",
        "    self.priors = {}\r\n",
        "    self.likelihoods = {}\r\n",
        "\r\n",
        "  def train(self, train_tokenized, train_labels):\r\n",
        "    self.set_priors(train_labels)  # Priors 계산.\r\n",
        "    self.set_likelihoods(train_tokenized, train_labels)  # Likelihoods 계산.\r\n",
        "\r\n",
        "  def inference(self, tokens):\r\n",
        "    log_prob0 = 0.0\r\n",
        "    log_prob1 = 0.0\r\n",
        "\r\n",
        "    for token in tokens:\r\n",
        "      if token in self.likelihoods:  # 학습 당시 추가했던 단어에 대해서만 고려.\r\n",
        "        log_prob0 += math.log(self.likelihoods[token][0])\r\n",
        "        log_prob1 += math.log(self.likelihoods[token][1])\r\n",
        "\r\n",
        "    # 마지막에 prior를 고려.\r\n",
        "    log_prob0 += math.log(self.priors[0])\r\n",
        "    log_prob1 += math.log(self.priors[1])\r\n",
        "\r\n",
        "    if log_prob0 >= log_prob1:\r\n",
        "      return 0\r\n",
        "    else:\r\n",
        "      return 1\r\n",
        "\r\n",
        "  def set_priors(self, train_labels):\r\n",
        "    class_counts = defaultdict(int)\r\n",
        "    for label in tqdm(train_labels):\r\n",
        "      class_counts[label] += 1\r\n",
        "    \r\n",
        "    for label, count in class_counts.items():\r\n",
        "      self.priors[label] = class_counts[label] / len(train_labels)\r\n",
        "\r\n",
        "  def set_likelihoods(self, train_tokenized, train_labels):\r\n",
        "    token_dists = {}  # 각 단어의 특정 class 조건 하에서의 등장 횟수.\r\n",
        "    class_counts = defaultdict(int)  # 특정 class에서 등장한 모든 단어의 등장 횟수.\r\n",
        "\r\n",
        "    for i, label in enumerate(tqdm(train_labels)):\r\n",
        "      count = 0\r\n",
        "      for token in train_tokenized[i]:\r\n",
        "        if token in self.w2i:  # 학습 데이터로 구축한 vocab에 있는 token만 고려.\r\n",
        "          if token not in token_dists:\r\n",
        "            token_dists[token] = {0:0, 1:0}\r\n",
        "          token_dists[token][label] += 1\r\n",
        "          count += 1\r\n",
        "      class_counts[label] += count\r\n",
        "\r\n",
        "    for token, dist in tqdm(token_dists.items()):\r\n",
        "      if token not in self.likelihoods:\r\n",
        "        self.likelihoods[token] = {\r\n",
        "            0:(token_dists[token][0] + self.k) / (class_counts[0] + len(self.w2i)*self.k),\r\n",
        "            1:(token_dists[token][1] + self.k) / (class_counts[1] + len(self.w2i)*self.k),\r\n",
        "        }"
      ],
      "execution_count": 28,
      "outputs": []
    },
    {
      "cell_type": "code",
      "metadata": {
        "colab": {
          "base_uri": "https://localhost:8080/"
        },
        "id": "755TC5Xg_kWV",
        "outputId": "cfc003aa-41dd-4e17-a46e-34d69eb76a7c"
      },
      "source": [
        "classifier = NaiveBayesClassifier(w2i)\r\n",
        "classifier.train(train_tokenized, train_labels)"
      ],
      "execution_count": 29,
      "outputs": [
        {
          "output_type": "stream",
          "text": [
            "100%|██████████| 10/10 [00:00<00:00, 5664.15it/s]\n",
            "100%|██████████| 10/10 [00:00<00:00, 17239.23it/s]\n",
            "100%|██████████| 66/66 [00:00<00:00, 314215.74it/s]\n"
          ],
          "name": "stderr"
        }
      ]
    },
    {
      "cell_type": "code",
      "metadata": {
        "colab": {
          "base_uri": "https://localhost:8080/"
        },
        "id": "OQ62uico_kcq",
        "outputId": "07431652-8f86-417c-f62f-73af946dea3b"
      },
      "source": [
        "preds = []\r\n",
        "for test_tokens in tqdm(test_tokenized):\r\n",
        "  pred = classifier.inference(test_tokens)\r\n",
        "  preds.append(pred)"
      ],
      "execution_count": 30,
      "outputs": [
        {
          "output_type": "stream",
          "text": [
            "100%|██████████| 4/4 [00:00<00:00, 10929.78it/s]\n"
          ],
          "name": "stderr"
        }
      ]
    },
    {
      "cell_type": "code",
      "metadata": {
        "colab": {
          "base_uri": "https://localhost:8080/"
        },
        "id": "Y8y965wCLPjS",
        "outputId": "b31a525b-fd3d-4002-f0a5-8712f816878f"
      },
      "source": [
        "test_data"
      ],
      "execution_count": 31,
      "outputs": [
        {
          "output_type": "execute_result",
          "data": {
            "text/plain": [
              "['정말 좋았습니다. 또 가고 싶네요.',\n",
              " '별로였습니다. 되도록 가지 마세요.',\n",
              " '다른 분들께도 추천드릴 수 있을 만큼 만족했습니다.',\n",
              " '서비스가 좀 더 개선되었으면 좋겠습니다. 기분이 좀 나빴습니다.']"
            ]
          },
          "metadata": {
            "tags": []
          },
          "execution_count": 31
        }
      ]
    },
    {
      "cell_type": "code",
      "metadata": {
        "colab": {
          "base_uri": "https://localhost:8080/"
        },
        "id": "jvoYpof0LMRe",
        "outputId": "d6dfe178-0362-42ef-ab16-36754f75515b"
      },
      "source": [
        "preds"
      ],
      "execution_count": 32,
      "outputs": [
        {
          "output_type": "execute_result",
          "data": {
            "text/plain": [
              "[1, 0, 1, 0]"
            ]
          },
          "metadata": {
            "tags": []
          },
          "execution_count": 32
        }
      ]
    }
  ]
}